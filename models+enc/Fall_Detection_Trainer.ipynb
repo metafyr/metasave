{
  "cells": [
    {
      "cell_type": "code",
      "execution_count": 18,
      "metadata": {
        "colab": {
          "base_uri": "https://localhost:8080/"
        },
        "id": "rLELOSiDxLEN",
        "outputId": "77278780-dd28-41bf-9e08-42dca8a7b4be"
      },
      "outputs": [
        {
          "output_type": "stream",
          "name": "stdout",
          "text": [
            "Drive already mounted at /content/drive; to attempt to forcibly remount, call drive.mount(\"/content/drive\", force_remount=True).\n"
          ]
        }
      ],
      "source": [
        "from google.colab import drive\n",
        "drive.mount('/content/drive')"
      ]
    },
    {
      "cell_type": "code",
      "execution_count": 2,
      "metadata": {
        "colab": {
          "base_uri": "https://localhost:8080/"
        },
        "id": "Uhak5nKBxU-1",
        "outputId": "a3530818-35d4-47a8-d1d5-c52f79bfe48e"
      },
      "outputs": [
        {
          "output_type": "stream",
          "name": "stdout",
          "text": [
            "Downloading data from https://storage.googleapis.com/tensorflow/keras-applications/resnet/resnet50_weights_tf_dim_ordering_tf_kernels_notop.h5\n",
            "94765736/94765736 [==============================] - 1s 0us/step\n"
          ]
        }
      ],
      "source": [
        "from tensorflow.keras.applications import ResNet50\n",
        "from tensorflow.keras.layers import GlobalAveragePooling2D, Dense\n",
        "from tensorflow.keras.models import Model\n",
        "\n",
        "base_model_resnet = ResNet50(weights='imagenet', include_top=False, input_shape=(640, 640, 3))\n",
        "\n",
        "x = GlobalAveragePooling2D()(base_model_resnet.output)\n",
        "x = Dense(1024, activation='relu')(x)\n",
        "predictions = Dense(1, activation='sigmoid')(x)\n",
        "\n",
        "model_resnet = Model(inputs=base_model_resnet.input, outputs=predictions)\n",
        "\n",
        "for layer in base_model_resnet.layers:\n",
        "    layer.trainable = False\n",
        "\n",
        "model_resnet.compile(optimizer='adam', loss='binary_crossentropy', metrics=['accuracy'])"
      ]
    },
    {
      "cell_type": "code",
      "execution_count": 3,
      "metadata": {
        "colab": {
          "base_uri": "https://localhost:8080/"
        },
        "id": "addK76NoxY9T",
        "outputId": "8f34116e-f748-4811-a1e7-945e95e7c0d5"
      },
      "outputs": [
        {
          "output_type": "stream",
          "name": "stdout",
          "text": [
            "Downloading data from https://storage.googleapis.com/tensorflow/keras-applications/inception_v3/inception_v3_weights_tf_dim_ordering_tf_kernels_notop.h5\n",
            "87910968/87910968 [==============================] - 1s 0us/step\n"
          ]
        }
      ],
      "source": [
        "from tensorflow.keras.applications import InceptionV3\n",
        "\n",
        "base_model_inception = InceptionV3(weights='imagenet', include_top=False, input_shape=(640, 640, 3))\n",
        "\n",
        "x = GlobalAveragePooling2D()(base_model_inception.output)\n",
        "x = Dense(1024, activation='relu')(x)\n",
        "predictions = Dense(1, activation='sigmoid')(x)\n",
        "\n",
        "model_inception = Model(inputs=base_model_inception.input, outputs=predictions)\n",
        "\n",
        "for layer in base_model_inception.layers:\n",
        "    layer.trainable = False\n",
        "\n",
        "model_inception.compile(optimizer='adam', loss='binary_crossentropy', metrics=['accuracy'])"
      ]
    },
    {
      "cell_type": "code",
      "execution_count": null,
      "metadata": {
        "id": "8aqQI0iPylUV"
      },
      "outputs": [],
      "source": [
        "!apt-get install unrar\n",
        "!unrar x \"/content/drive/MyDrive/Fall Detection.rar\" \"/content/Fall Detection/\""
      ]
    },
    {
      "cell_type": "code",
      "execution_count": 21,
      "metadata": {
        "colab": {
          "base_uri": "https://localhost:8080/"
        },
        "id": "jUQztn1t1Z7w",
        "outputId": "fab74f29-7692-4032-aade-90bc7f0d8f38"
      },
      "outputs": [
        {
          "output_type": "stream",
          "name": "stdout",
          "text": [
            "/content/Fall Detection\n"
          ]
        }
      ],
      "source": [
        "%cd /content/Fall Detection"
      ]
    },
    {
      "cell_type": "code",
      "execution_count": 25,
      "metadata": {
        "colab": {
          "base_uri": "https://localhost:8080/"
        },
        "id": "HmnwsEklx2y_",
        "outputId": "fa8cff46-8d98-4024-a6a8-f8a5f7fe25f9"
      },
      "outputs": [
        {
          "output_type": "stream",
          "name": "stdout",
          "text": [
            "Found 9442 validated image filenames belonging to 2 classes.\n",
            "Found 900 validated image filenames belonging to 2 classes.\n",
            "Found 451 validated image filenames belonging to 2 classes.\n"
          ]
        }
      ],
      "source": [
        "import pandas as pd\n",
        "\n",
        "train_annotations = pd.read_csv(\"Fall Detection/train/_annotations.csv\")\n",
        "valid_annotations = pd.read_csv(\"Fall Detection/valid/_annotations.csv\")\n",
        "test_annotations = pd.read_csv(\"Fall Detection/test/_annotations.csv\")\n",
        "\n",
        "class_map = {'Fall-Detected': 1, 'Not-Fall-Detected': 0}\n",
        "train_annotations['class'] = train_annotations['class'].astype(str)\n",
        "valid_annotations['class'] = valid_annotations['class'].astype(str)\n",
        "test_annotations['class'] = test_annotations['class'].astype(str)\n",
        "\n",
        "from tensorflow.keras.preprocessing.image import ImageDataGenerator\n",
        "\n",
        "train_datagen = ImageDataGenerator(rescale=1./255,\n",
        "                                   rotation_range=20,\n",
        "                                   width_shift_range=0.2,\n",
        "                                   height_shift_range=0.2,\n",
        "                                   shear_range=0.2,\n",
        "                                   zoom_range=0.2,\n",
        "                                   horizontal_flip=True,\n",
        "                                   fill_mode='nearest')\n",
        "\n",
        "valid_datagen = ImageDataGenerator(rescale=1./255)\n",
        "\n",
        "test_datagen = ImageDataGenerator(rescale=1./255)\n",
        "\n",
        "train_generator = train_datagen.flow_from_dataframe(\n",
        "    dataframe=train_annotations,\n",
        "    directory='Fall Detection/train/',\n",
        "    x_col=\"filename\",\n",
        "    y_col=\"class\",\n",
        "    target_size=(640, 640),\n",
        "    batch_size=32,\n",
        "    class_mode='binary')\n",
        "\n",
        "valid_generator = valid_datagen.flow_from_dataframe(\n",
        "    dataframe=valid_annotations,\n",
        "    directory='Fall Detection/valid/',\n",
        "    x_col=\"filename\",\n",
        "    y_col=\"class\",\n",
        "    target_size=(640, 640),\n",
        "    batch_size=32,\n",
        "    class_mode='binary')\n",
        "\n",
        "test_generator = test_datagen.flow_from_dataframe(\n",
        "    dataframe=test_annotations,\n",
        "    directory='Fall Detection/test/',\n",
        "    x_col=\"filename\",\n",
        "    y_col=\"class\",\n",
        "    target_size=(640, 640),\n",
        "    batch_size=32,\n",
        "    class_mode='binary',\n",
        "    shuffle=False\n",
        ")"
      ]
    },
    {
      "cell_type": "code",
      "execution_count": 23,
      "metadata": {
        "colab": {
          "base_uri": "https://localhost:8080/"
        },
        "id": "VU7n_Qw2xyTl",
        "outputId": "6b4c4108-2edf-4d0f-e1d6-ff32efd88468"
      },
      "outputs": [
        {
          "output_type": "stream",
          "name": "stdout",
          "text": [
            "Epoch 1/10\n",
            "100/100 [==============================] - ETA: 0s - loss: 0.0090 - accuracy: 0.9900"
          ]
        },
        {
          "output_type": "stream",
          "name": "stderr",
          "text": [
            "WARNING:tensorflow:Your input ran out of data; interrupting training. Make sure that your dataset or generator can generate at least `steps_per_epoch * epochs` batches (in this case, 50 batches). You may need to use the repeat() function when building your dataset.\n"
          ]
        },
        {
          "output_type": "stream",
          "name": "stdout",
          "text": [
            "\n",
            "Epoch 1: val_loss improved from inf to 0.05318, saving model to /content/drive/MyDrive/best_model_inception.h5\n"
          ]
        },
        {
          "output_type": "stream",
          "name": "stderr",
          "text": [
            "/usr/local/lib/python3.10/dist-packages/keras/src/engine/training.py:3103: UserWarning: You are saving your model as an HDF5 file via `model.save()`. This file format is considered legacy. We recommend using instead the native Keras format, e.g. `model.save('my_model.keras')`.\n",
            "  saving_api.save_model(\n"
          ]
        },
        {
          "output_type": "stream",
          "name": "stdout",
          "text": [
            "\b\b\b\b\b\b\b\b\b\b\b\b\b\b\b\b\b\b\b\b\b\b\b\b\b\b\b\b\b\b\b\b\b\b\b\b\b\b\b\b\b\b\b\b\b\b\b\b\b\b\b\b\b\b\b\b\b\b\b\b\b\b\b\b\b\b\b\b\b\b\b\b\b\b\b\b\b\b\b\b\b\b\b\b\r100/100 [==============================] - 372s 3s/step - loss: 0.0090 - accuracy: 0.9900 - val_loss: 0.0532 - val_accuracy: 0.9989\n",
            "Epoch 2/10\n",
            "100/100 [==============================] - ETA: 0s - loss: 5.6898e-15 - accuracy: 1.0000"
          ]
        },
        {
          "output_type": "stream",
          "name": "stderr",
          "text": [
            "WARNING:tensorflow:Can save best model only with val_loss available, skipping.\n"
          ]
        },
        {
          "output_type": "stream",
          "name": "stdout",
          "text": [
            "\b\b\b\b\b\b\b\b\b\b\b\b\b\b\b\b\b\b\b\b\b\b\b\b\b\b\b\b\b\b\b\b\b\b\b\b\b\b\b\b\b\b\b\b\b\b\b\b\b\b\b\b\b\b\b\b\b\b\b\b\b\b\b\b\b\b\b\b\b\b\b\b\b\b\b\b\b\b\b\b\b\b\b\b\b\b\b\b\r100/100 [==============================] - 331s 3s/step - loss: 5.6898e-15 - accuracy: 1.0000\n",
            "Epoch 3/10\n",
            "100/100 [==============================] - ETA: 0s - loss: 2.2121e-15 - accuracy: 1.0000"
          ]
        },
        {
          "output_type": "stream",
          "name": "stderr",
          "text": [
            "WARNING:tensorflow:Can save best model only with val_loss available, skipping.\n"
          ]
        },
        {
          "output_type": "stream",
          "name": "stdout",
          "text": [
            "\b\b\b\b\b\b\b\b\b\b\b\b\b\b\b\b\b\b\b\b\b\b\b\b\b\b\b\b\b\b\b\b\b\b\b\b\b\b\b\b\b\b\b\b\b\b\b\b\b\b\b\b\b\b\b\b\b\b\b\b\b\b\b\b\b\b\b\b\b\b\b\b\b\b\b\b\b\b\b\b\b\b\b\b\b\b\b\b\r100/100 [==============================] - 329s 3s/step - loss: 2.2121e-15 - accuracy: 1.0000\n",
            "Epoch 4/10\n",
            "100/100 [==============================] - ETA: 0s - loss: 0.0160 - accuracy: 0.9997"
          ]
        },
        {
          "output_type": "stream",
          "name": "stderr",
          "text": [
            "WARNING:tensorflow:Can save best model only with val_loss available, skipping.\n"
          ]
        },
        {
          "output_type": "stream",
          "name": "stdout",
          "text": [
            "\b\b\b\b\b\b\b\b\b\b\b\b\b\b\b\b\b\b\b\b\b\b\b\b\b\b\b\b\b\b\b\b\b\b\b\b\b\b\b\b\b\b\b\b\b\b\b\b\b\b\b\b\b\b\b\b\b\b\b\b\b\b\b\b\b\b\b\b\b\b\b\b\b\b\b\b\b\b\b\b\b\b\b\b\r100/100 [==============================] - 332s 3s/step - loss: 0.0160 - accuracy: 0.9997\n",
            "Epoch 5/10\n",
            "100/100 [==============================] - ETA: 0s - loss: 0.0060 - accuracy: 0.9997"
          ]
        },
        {
          "output_type": "stream",
          "name": "stderr",
          "text": [
            "WARNING:tensorflow:Can save best model only with val_loss available, skipping.\n"
          ]
        },
        {
          "output_type": "stream",
          "name": "stdout",
          "text": [
            "\b\b\b\b\b\b\b\b\b\b\b\b\b\b\b\b\b\b\b\b\b\b\b\b\b\b\b\b\b\b\b\b\b\b\b\b\b\b\b\b\b\b\b\b\b\b\b\b\b\b\b\b\b\b\b\b\b\b\b\b\b\b\b\b\b\b\b\b\b\b\b\b\b\b\b\b\b\b\b\b\b\b\b\b\r100/100 [==============================] - 331s 3s/step - loss: 0.0060 - accuracy: 0.9997\n",
            "Epoch 6/10\n",
            "100/100 [==============================] - ETA: 0s - loss: 0.0058 - accuracy: 0.9997"
          ]
        },
        {
          "output_type": "stream",
          "name": "stderr",
          "text": [
            "WARNING:tensorflow:Can save best model only with val_loss available, skipping.\n"
          ]
        },
        {
          "output_type": "stream",
          "name": "stdout",
          "text": [
            "\b\b\b\b\b\b\b\b\b\b\b\b\b\b\b\b\b\b\b\b\b\b\b\b\b\b\b\b\b\b\b\b\b\b\b\b\b\b\b\b\b\b\b\b\b\b\b\b\b\b\b\b\b\b\b\b\b\b\b\b\b\b\b\b\b\b\b\b\b\b\b\b\b\b\b\b\b\b\b\b\b\b\b\b\r100/100 [==============================] - 328s 3s/step - loss: 0.0058 - accuracy: 0.9997\n",
            "Epoch 7/10\n",
            "100/100 [==============================] - ETA: 0s - loss: 4.4902e-09 - accuracy: 1.0000"
          ]
        },
        {
          "output_type": "stream",
          "name": "stderr",
          "text": [
            "WARNING:tensorflow:Can save best model only with val_loss available, skipping.\n"
          ]
        },
        {
          "output_type": "stream",
          "name": "stdout",
          "text": [
            "\b\b\b\b\b\b\b\b\b\b\b\b\b\b\b\b\b\b\b\b\b\b\b\b\b\b\b\b\b\b\b\b\b\b\b\b\b\b\b\b\b\b\b\b\b\b\b\b\b\b\b\b\b\b\b\b\b\b\b\b\b\b\b\b\b\b\b\b\b\b\b\b\b\b\b\b\b\b\b\b\b\b\b\b\b\b\b\b\r100/100 [==============================] - 326s 3s/step - loss: 4.4902e-09 - accuracy: 1.0000\n",
            "Epoch 8/10\n",
            "100/100 [==============================] - ETA: 0s - loss: 3.1391e-09 - accuracy: 1.0000"
          ]
        },
        {
          "output_type": "stream",
          "name": "stderr",
          "text": [
            "WARNING:tensorflow:Can save best model only with val_loss available, skipping.\n"
          ]
        },
        {
          "output_type": "stream",
          "name": "stdout",
          "text": [
            "\b\b\b\b\b\b\b\b\b\b\b\b\b\b\b\b\b\b\b\b\b\b\b\b\b\b\b\b\b\b\b\b\b\b\b\b\b\b\b\b\b\b\b\b\b\b\b\b\b\b\b\b\b\b\b\b\b\b\b\b\b\b\b\b\b\b\b\b\b\b\b\b\b\b\b\b\b\b\b\b\b\b\b\b\b\b\b\b\r100/100 [==============================] - 326s 3s/step - loss: 3.1391e-09 - accuracy: 1.0000\n",
            "Epoch 9/10\n",
            "100/100 [==============================] - ETA: 0s - loss: 2.7116e-09 - accuracy: 1.0000"
          ]
        },
        {
          "output_type": "stream",
          "name": "stderr",
          "text": [
            "WARNING:tensorflow:Can save best model only with val_loss available, skipping.\n"
          ]
        },
        {
          "output_type": "stream",
          "name": "stdout",
          "text": [
            "\b\b\b\b\b\b\b\b\b\b\b\b\b\b\b\b\b\b\b\b\b\b\b\b\b\b\b\b\b\b\b\b\b\b\b\b\b\b\b\b\b\b\b\b\b\b\b\b\b\b\b\b\b\b\b\b\b\b\b\b\b\b\b\b\b\b\b\b\b\b\b\b\b\b\b\b\b\b\b\b\b\b\b\b\b\b\b\b\r100/100 [==============================] - 324s 3s/step - loss: 2.7116e-09 - accuracy: 1.0000\n",
            "Epoch 10/10\n",
            "100/100 [==============================] - ETA: 0s - loss: 2.4644e-09 - accuracy: 1.0000"
          ]
        },
        {
          "output_type": "stream",
          "name": "stderr",
          "text": [
            "WARNING:tensorflow:Can save best model only with val_loss available, skipping.\n"
          ]
        },
        {
          "output_type": "stream",
          "name": "stdout",
          "text": [
            "\b\b\b\b\b\b\b\b\b\b\b\b\b\b\b\b\b\b\b\b\b\b\b\b\b\b\b\b\b\b\b\b\b\b\b\b\b\b\b\b\b\b\b\b\b\b\b\b\b\b\b\b\b\b\b\b\b\b\b\b\b\b\b\b\b\b\b\b\b\b\b\b\b\b\b\b\b\b\b\b\b\b\b\b\b\b\b\b\r100/100 [==============================] - 323s 3s/step - loss: 2.4644e-09 - accuracy: 1.0000\n"
          ]
        }
      ],
      "source": [
        "from tensorflow.keras.callbacks import ModelCheckpoint\n",
        "\n",
        "checkpoint_resnet = ModelCheckpoint('/content/drive/MyDrive/best_model_resnet.h5', save_best_only=True, monitor='val_loss', verbose=1)\n",
        "\n",
        "history_resnet = model_resnet.fit(\n",
        "    train_generator,\n",
        "    steps_per_epoch=100,\n",
        "    epochs=10,\n",
        "    validation_data=valid_generator,\n",
        "    validation_steps=50,\n",
        "    callbacks=[checkpoint_resnet]\n",
        ")\n",
        "\n",
        "checkpoint_inception = ModelCheckpoint('/content/drive/MyDrive/best_model_inception.h5', save_best_only=True, monitor='val_loss', verbose=1)\n",
        "\n",
        "history_inception = model_inception.fit(\n",
        "    train_generator,\n",
        "    steps_per_epoch=100,\n",
        "    epochs=10,\n",
        "    validation_data=valid_generator,\n",
        "    validation_steps=50,\n",
        "    callbacks=[checkpoint_inception]\n",
        ")"
      ]
    },
    {
      "cell_type": "code",
      "source": [
        "from tensorflow.keras.models import load_model\n",
        "\n",
        "model_resnet = load_model('/content/drive/MyDrive/best_model_resnet.h5')\n",
        "model_inception = load_model('/content/drive/MyDrive/best_model_inception.h5')"
      ],
      "metadata": {
        "id": "Tev9IWUOpEuK"
      },
      "execution_count": 24,
      "outputs": []
    },
    {
      "cell_type": "code",
      "source": [
        "test_loss_resnet, test_accuracy_resnet = model_resnet.evaluate(test_generator)\n",
        "print(f\"ResNet Test Accuracy: {test_accuracy_resnet}\")\n",
        "\n",
        "test_loss_inception, test_accuracy_inception = model_inception.evaluate(test_generator)\n",
        "print(f\"Inception Test Accuracy: {test_accuracy_inception}\")"
      ],
      "metadata": {
        "colab": {
          "base_uri": "https://localhost:8080/"
        },
        "id": "F-BmZ5-QpFPq",
        "outputId": "a8afca93-0dd6-4650-d738-dbf65ab1344f"
      },
      "execution_count": 26,
      "outputs": [
        {
          "output_type": "stream",
          "name": "stdout",
          "text": [
            "15/15 [==============================] - 23s 798ms/step - loss: 0.1906 - accuracy: 0.9978\n",
            "ResNet Test Accuracy: 0.9977827072143555\n",
            "15/15 [==============================] - 13s 786ms/step - loss: 0.1061 - accuracy: 0.9978\n",
            "Inception Test Accuracy: 0.9977827072143555\n"
          ]
        }
      ]
    },
    {
      "cell_type": "code",
      "source": [
        "val_loss_resnet, val_accuracy_resnet = model_resnet.evaluate(valid_generator)\n",
        "print(f\"ResNet Validation Accuracy: {val_accuracy_resnet}\")\n",
        "\n",
        "val_loss_inception, val_accuracy_inception = model_inception.evaluate(valid_generator)\n",
        "print(f\"Inception Validation Accuracy: {val_accuracy_inception}\")"
      ],
      "metadata": {
        "colab": {
          "base_uri": "https://localhost:8080/"
        },
        "id": "JUIqsplTpOi4",
        "outputId": "e7d4f0c8-28dd-4f02-9560-508fc1f9e1b4"
      },
      "execution_count": 27,
      "outputs": [
        {
          "output_type": "stream",
          "name": "stdout",
          "text": [
            "29/29 [==============================] - 24s 813ms/step - loss: 0.0955 - accuracy: 0.9989\n",
            "ResNet Validation Accuracy: 0.9988889098167419\n",
            "29/29 [==============================] - 22s 739ms/step - loss: 0.0532 - accuracy: 0.9989\n",
            "Inception Validation Accuracy: 0.9988889098167419\n"
          ]
        }
      ]
    },
    {
      "cell_type": "code",
      "source": [
        "from sklearn.metrics import classification_report, confusion_matrix\n",
        "\n",
        "predictions_resnet = model_resnet.predict(test_generator)\n",
        "predictions_resnet = [1 if x > 0.5 else 0 for x in predictions_resnet]\n",
        "\n",
        "print(classification_report(test_generator.classes, predictions_resnet))\n",
        "print(confusion_matrix(test_generator.classes, predictions_resnet))"
      ],
      "metadata": {
        "colab": {
          "base_uri": "https://localhost:8080/"
        },
        "id": "hrKWFKAGpPb1",
        "outputId": "f96b37f6-1c52-4abf-f020-ad1df308f775"
      },
      "execution_count": 28,
      "outputs": [
        {
          "output_type": "stream",
          "name": "stdout",
          "text": [
            "15/15 [==============================] - 12s 725ms/step\n",
            "              precision    recall  f1-score   support\n",
            "\n",
            "           0       1.00      1.00      1.00       450\n",
            "           1       0.00      0.00      0.00         1\n",
            "\n",
            "    accuracy                           1.00       451\n",
            "   macro avg       0.50      0.50      0.50       451\n",
            "weighted avg       1.00      1.00      1.00       451\n",
            "\n",
            "[[450   0]\n",
            " [  1   0]]\n"
          ]
        },
        {
          "output_type": "stream",
          "name": "stderr",
          "text": [
            "/usr/local/lib/python3.10/dist-packages/sklearn/metrics/_classification.py:1344: UndefinedMetricWarning: Precision and F-score are ill-defined and being set to 0.0 in labels with no predicted samples. Use `zero_division` parameter to control this behavior.\n",
            "  _warn_prf(average, modifier, msg_start, len(result))\n",
            "/usr/local/lib/python3.10/dist-packages/sklearn/metrics/_classification.py:1344: UndefinedMetricWarning: Precision and F-score are ill-defined and being set to 0.0 in labels with no predicted samples. Use `zero_division` parameter to control this behavior.\n",
            "  _warn_prf(average, modifier, msg_start, len(result))\n",
            "/usr/local/lib/python3.10/dist-packages/sklearn/metrics/_classification.py:1344: UndefinedMetricWarning: Precision and F-score are ill-defined and being set to 0.0 in labels with no predicted samples. Use `zero_division` parameter to control this behavior.\n",
            "  _warn_prf(average, modifier, msg_start, len(result))\n"
          ]
        }
      ]
    }
  ],
  "metadata": {
    "accelerator": "GPU",
    "colab": {
      "provenance": []
    },
    "kernelspec": {
      "display_name": "Python 3",
      "name": "python3"
    },
    "language_info": {
      "name": "python"
    }
  },
  "nbformat": 4,
  "nbformat_minor": 0
}