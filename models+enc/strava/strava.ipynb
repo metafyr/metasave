{
 "cells": [
  {
   "cell_type": "code",
   "execution_count": 1,
   "metadata": {},
   "outputs": [
    {
     "name": "stdout",
     "output_type": "stream",
     "text": [
      "Client ID and secret read from file\n"
     ]
    }
   ],
   "source": [
    "from stravalib.client import Client\n",
    "client = Client()\n",
    "MY_STRAVA_CLIENT_ID, MY_STRAVA_CLIENT_SECRET = open('./client.secret').read().strip().split(',')\n",
    "print ('Client ID and secret read from file'.format(MY_STRAVA_CLIENT_ID) )"
   ]
  },
  {
   "cell_type": "code",
   "execution_count": 5,
   "metadata": {},
   "outputs": [],
   "source": [
    "url = client.authorization_url(client_id=MY_STRAVA_CLIENT_ID, redirect_uri='http://127.0.0.1:5000/authorization', scope=['read_all','profile:read_all','activity:read_all'])"
   ]
  },
  {
   "cell_type": "code",
   "execution_count": 6,
   "metadata": {},
   "outputs": [
    {
     "name": "stdout",
     "output_type": "stream",
     "text": [
      "https://www.strava.com/oauth/authorize?client_id=119392&redirect_uri=http%3A%2F%2F127.0.0.1%3A5000%2Fauthorization&approval_prompt=auto&scope=read_all%2Cprofile%3Aread_all%2Cactivity%3Aread_all&response_type=code\n"
     ]
    }
   ],
   "source": [
    "print(url)"
   ]
  },
  {
   "cell_type": "code",
   "execution_count": 7,
   "metadata": {},
   "outputs": [],
   "source": [
    "import pickle\n",
    "\n",
    "CODE = 'b4b4d0f5c7213f954c82d59ebf3a3d78e9d4a0d7'\n",
    "access_token = client.exchange_code_for_token(client_id=MY_STRAVA_CLIENT_ID, client_secret=MY_STRAVA_CLIENT_SECRET, code=CODE)\n",
    "with open('../access_token.pickle', 'wb') as f:\n",
    "    pickle.dump(access_token, f)"
   ]
  },
  {
   "cell_type": "code",
   "execution_count": 9,
   "metadata": {},
   "outputs": [
    {
     "name": "stdout",
     "output_type": "stream",
     "text": [
      "Latest access token read from file:\n"
     ]
    },
    {
     "data": {
      "text/plain": [
       "{'access_token': '5edf36ddb58a27183089fd8e99e02da00580b04f',\n",
       " 'refresh_token': 'f2622dda62f9b76f31ed4d69a2d26ec02e229cc8',\n",
       " 'expires_at': 1704546698}"
      ]
     },
     "execution_count": 9,
     "metadata": {},
     "output_type": "execute_result"
    }
   ],
   "source": [
    "with open('../access_token.pickle', 'rb') as f:\n",
    "    access_token = pickle.load(f)\n",
    "    \n",
    "print('Latest access token read from file:')\n",
    "access_token"
   ]
  },
  {
   "cell_type": "code",
   "execution_count": 24,
   "metadata": {},
   "outputs": [
    {
     "name": "stdout",
     "output_type": "stream",
     "text": [
      "Token still valid, expires at Sat, 06 Jan 2024 18:41:38 India Standard Time\n"
     ]
    }
   ],
   "source": [
    "import time\n",
    "if time.time() > access_token['expires_at']:\n",
    "    print('Token has expired, will refresh')\n",
    "    refresh_response = client.refresh_access_token(client_id=MY_STRAVA_CLIENT_ID, client_secret=MY_STRAVA_CLIENT_SECRET, refresh_token=access_token['refresh_token'])\n",
    "    access_token = refresh_response\n",
    "    with open('../access_token.pickle', 'wb') as f:\n",
    "        pickle.dump(refresh_response, f)\n",
    "    print('Refreshed token saved to file')\n",
    "    client.access_token = refresh_response['access_token']\n",
    "    client.refresh_token = refresh_response['refresh_token']\n",
    "    client.token_expires_at = refresh_response['expires_at']\n",
    "        \n",
    "else:\n",
    "    print('Token still valid, expires at {}'\n",
    "          .format(time.strftime(\"%a, %d %b %Y %H:%M:%S %Z\", time.localtime(access_token['expires_at']))))\n",
    "    client.access_token = access_token['access_token']\n",
    "    client.refresh_token = access_token['refresh_token']\n",
    "    client.token_expires_at = access_token['expires_at']"
   ]
  },
  {
   "cell_type": "code",
   "execution_count": 25,
   "metadata": {},
   "outputs": [
    {
     "name": "stdout",
     "output_type": "stream",
     "text": [
      "Athlete's name is Alosh Denny, based in None, None\n"
     ]
    }
   ],
   "source": [
    "athlete = client.get_athlete()\n",
    "print(\"Athlete's name is {} {}, based in {}, {}\"\n",
    "      .format(athlete.firstname, athlete.lastname, athlete.city, athlete.country))"
   ]
  },
  {
   "cell_type": "code",
   "execution_count": 27,
   "metadata": {},
   "outputs": [
    {
     "data": {
      "text/plain": [
       "[]"
      ]
     },
     "execution_count": 27,
     "metadata": {},
     "output_type": "execute_result"
    }
   ],
   "source": [
    "activities = client.get_activities(limit=1000)\n",
    "list(activities)[0:10]"
   ]
  },
  {
   "cell_type": "code",
   "execution_count": 28,
   "metadata": {},
   "outputs": [],
   "source": [
    "my_cols =['name',\n",
    "          'start_date_local',\n",
    "          'type',\n",
    "          'distance',\n",
    "          'moving_time',\n",
    "          'elapsed_time',\n",
    "          'total_elevation_gain',\n",
    "          'elev_high',\n",
    "          'elev_low',\n",
    "          'average_speed',\n",
    "          'max_speed',\n",
    "          'average_heartrate',\n",
    "          'max_heartrate',\n",
    "          'start_latlng']"
   ]
  },
  {
   "cell_type": "code",
   "execution_count": 29,
   "metadata": {},
   "outputs": [],
   "source": [
    "data = []\n",
    "for activity in activities:\n",
    "    my_dict = activity.to_dict()\n",
    "    data.append([activity.id]+[my_dict.get(x) for x in my_cols])\n",
    "    \n",
    "# Add id to the beginning of the columns, used when selecting a specific activity\n",
    "my_cols.insert(0,'id')"
   ]
  },
  {
   "cell_type": "code",
   "execution_count": 38,
   "metadata": {},
   "outputs": [],
   "source": [
    "import pandas as pd\n",
    "df = pd.DataFrame(data, columns=my_cols)\n",
    "# Make all walks into hikes for consistency\n",
    "df['type'] = df['type'].replace('Walk','Hike')\n",
    "# Create a distance in km column\n",
    "df['distance_km'] = df['distance']/1e3\n",
    "# Convert dates to datetime type\n",
    "df['start_date_local'] = pd.to_datetime(df['start_date_local'])\n",
    "# Create a day of the week and month of the year columns\n",
    "df['day_of_week'] = df['start_date_local'].dt.day_name()\n",
    "df['month_of_year'] = df['start_date_local'].dt.month\n",
    "# Convert times to timedeltas\n",
    "df['moving_time'] = pd.to_timedelta(df['moving_time'])\n",
    "df['elapsed_time'] = pd.to_timedelta(df['elapsed_time'])\n",
    "# Convert timings to hours for plotting\n",
    "df['elapsed_time_hr'] = df['elapsed_time'].astype('int64')/3600e9\n",
    "df['moving_time_hr'] = df['moving_time'].astype('int64')/3600e9"
   ]
  },
  {
   "cell_type": "code",
   "execution_count": 44,
   "metadata": {},
   "outputs": [
    {
     "name": "stdout",
     "output_type": "stream",
     "text": [
      "Index(['id', 'name', 'start_date_local', 'type', 'distance', 'moving_time',\n",
      "       'elapsed_time', 'total_elevation_gain', 'elev_high', 'elev_low',\n",
      "       'average_speed', 'max_speed', 'average_heartrate', 'max_heartrate',\n",
      "       'start_latlng', 'distance_km', 'day_of_week', 'month_of_year',\n",
      "       'elapsed_time_hr', 'moving_time_hr'],\n",
      "      dtype='object')\n"
     ]
    }
   ],
   "source": [
    "df.head()\n",
    "print(df.columns)"
   ]
  },
  {
   "cell_type": "code",
   "execution_count": 42,
   "metadata": {},
   "outputs": [
    {
     "data": {
      "image/png": "[encoded data removed]",
      "text/plain": [
       "<Figure size 360x400 with 1 Axes>"
      ]
     },
     "metadata": {},
     "output_type": "display_data"
    }
   ],
   "source": [
    "import seaborn as sns\n",
    "\n",
    "day_of_week_order = ['Monday', 'Tuesday', 'Wednesday', 'Thursday', 'Friday', 'Saturday', 'Sunday' ]\n",
    "g = sns.catplot(x='day_of_week', y='distance_km', kind='strip', data=df, order=day_of_week_order, col='type', height=4, aspect=0.9, palette='pastel')\n",
    "(g.set_axis_labels(\"Week day\", \"Distance (km)\")\n",
    "  .set_titles(\"Activity type: {col_name}\")\n",
    "  .set_xticklabels(rotation=30));"
   ]
  },
  {
   "cell_type": "code",
   "execution_count": 40,
   "metadata": {},
   "outputs": [
    {
     "ename": "IndexError",
     "evalue": "index 0 is out of bounds for axis 0 with size 0",
     "output_type": "error",
     "traceback": [
      "\u001b[1;31m---------------------------------------------------------------------------\u001b[0m",
      "\u001b[1;31mIndexError\u001b[0m                                Traceback (most recent call last)",
      "Cell \u001b[1;32mIn[40], line 3\u001b[0m\n\u001b[0;32m      1\u001b[0m activity_number\u001b[38;5;241m=\u001b[39m\u001b[38;5;241m0\u001b[39m\n\u001b[0;32m      2\u001b[0m types \u001b[38;5;241m=\u001b[39m [\u001b[38;5;124m'\u001b[39m\u001b[38;5;124mtime\u001b[39m\u001b[38;5;124m'\u001b[39m, \u001b[38;5;124m'\u001b[39m\u001b[38;5;124mdistance\u001b[39m\u001b[38;5;124m'\u001b[39m, \u001b[38;5;124m'\u001b[39m\u001b[38;5;124mlatlng\u001b[39m\u001b[38;5;124m'\u001b[39m, \u001b[38;5;124m'\u001b[39m\u001b[38;5;124maltitude\u001b[39m\u001b[38;5;124m'\u001b[39m, \u001b[38;5;124m'\u001b[39m\u001b[38;5;124mvelocity_smooth\u001b[39m\u001b[38;5;124m'\u001b[39m, \u001b[38;5;124m'\u001b[39m\u001b[38;5;124mmoving\u001b[39m\u001b[38;5;124m'\u001b[39m, \u001b[38;5;124m'\u001b[39m\u001b[38;5;124mgrade_smooth\u001b[39m\u001b[38;5;124m'\u001b[39m]\n\u001b[1;32m----> 3\u001b[0m activity_data\u001b[38;5;241m=\u001b[39mclient\u001b[38;5;241m.\u001b[39mget_activity_streams(\u001b[43mdf\u001b[49m\u001b[43m[\u001b[49m\u001b[38;5;124;43m'\u001b[39;49m\u001b[38;5;124;43mid\u001b[39;49m\u001b[38;5;124;43m'\u001b[39;49m\u001b[43m]\u001b[49m\u001b[43m[\u001b[49m\u001b[43mactivity_number\u001b[49m\u001b[43m]\u001b[49m, types\u001b[38;5;241m=\u001b[39mtypes)\n",
      "File \u001b[1;32mc:\\Users\\alosh\\anaconda3\\lib\\site-packages\\pandas\\core\\series.py:978\u001b[0m, in \u001b[0;36mSeries.__getitem__\u001b[1;34m(self, key)\u001b[0m\n\u001b[0;32m    975\u001b[0m     key \u001b[38;5;241m=\u001b[39m unpack_1tuple(key)\n\u001b[0;32m    977\u001b[0m \u001b[38;5;28;01mif\u001b[39;00m is_integer(key) \u001b[38;5;129;01mand\u001b[39;00m \u001b[38;5;28mself\u001b[39m\u001b[38;5;241m.\u001b[39mindex\u001b[38;5;241m.\u001b[39m_should_fallback_to_positional:\n\u001b[1;32m--> 978\u001b[0m     \u001b[38;5;28;01mreturn\u001b[39;00m \u001b[38;5;28;43mself\u001b[39;49m\u001b[38;5;241;43m.\u001b[39;49m\u001b[43m_values\u001b[49m\u001b[43m[\u001b[49m\u001b[43mkey\u001b[49m\u001b[43m]\u001b[49m\n\u001b[0;32m    980\u001b[0m \u001b[38;5;28;01melif\u001b[39;00m key_is_scalar:\n\u001b[0;32m    981\u001b[0m     \u001b[38;5;28;01mreturn\u001b[39;00m \u001b[38;5;28mself\u001b[39m\u001b[38;5;241m.\u001b[39m_get_value(key)\n",
      "\u001b[1;31mIndexError\u001b[0m: index 0 is out of bounds for axis 0 with size 0"
     ]
    }
   ],
   "source": [
    "activity_number=0\n",
    "types = ['time', 'distance', 'latlng', 'altitude', 'velocity_smooth', 'moving', 'grade_smooth']\n",
    "activity_data=client.get_activity_streams(df['id'][activity_number], types=types)"
   ]
  },
  {
   "cell_type": "code",
   "execution_count": 43,
   "metadata": {},
   "outputs": [
    {
     "ename": "IndexError",
     "evalue": "index 0 is out of bounds for axis 0 with size 0",
     "output_type": "error",
     "traceback": [
      "\u001b[1;31m---------------------------------------------------------------------------\u001b[0m",
      "\u001b[1;31mIndexError\u001b[0m                                Traceback (most recent call last)",
      "Cell \u001b[1;32mIn[43], line 3\u001b[0m\n\u001b[0;32m      1\u001b[0m \u001b[38;5;28;01mimport\u001b[39;00m \u001b[38;5;21;01mfolium\u001b[39;00m\n\u001b[1;32m----> 3\u001b[0m \u001b[38;5;28mmap\u001b[39m \u001b[38;5;241m=\u001b[39m folium\u001b[38;5;241m.\u001b[39mMap(location\u001b[38;5;241m=\u001b[39m[\u001b[43mdf\u001b[49m\u001b[43m[\u001b[49m\u001b[38;5;124;43m'\u001b[39;49m\u001b[38;5;124;43mstart_latlng\u001b[39;49m\u001b[38;5;124;43m'\u001b[39;49m\u001b[43m]\u001b[49m\u001b[43m[\u001b[49m\u001b[43mactivity_number\u001b[49m\u001b[43m]\u001b[49m\u001b[38;5;241m.\u001b[39msplit(\u001b[38;5;124m'\u001b[39m\u001b[38;5;124m,\u001b[39m\u001b[38;5;124m'\u001b[39m)[\u001b[38;5;241m0\u001b[39m],df[\u001b[38;5;124m'\u001b[39m\u001b[38;5;124mstart_latlng\u001b[39m\u001b[38;5;124m'\u001b[39m][activity_number]\u001b[38;5;241m.\u001b[39msplit(\u001b[38;5;124m'\u001b[39m\u001b[38;5;124m,\u001b[39m\u001b[38;5;124m'\u001b[39m)[\u001b[38;5;241m1\u001b[39m]],\n\u001b[0;32m      4\u001b[0m                  zoom_start\u001b[38;5;241m=\u001b[39m\u001b[38;5;241m14\u001b[39m,\n\u001b[0;32m      5\u001b[0m                  width\u001b[38;5;241m=\u001b[39m\u001b[38;5;124m'\u001b[39m\u001b[38;5;124m100\u001b[39m\u001b[38;5;124m%\u001b[39m\u001b[38;5;124m'\u001b[39m\n\u001b[0;32m      6\u001b[0m                 )\n\u001b[0;32m      7\u001b[0m folium\u001b[38;5;241m.\u001b[39mPolyLine(activity_data[\u001b[38;5;124m'\u001b[39m\u001b[38;5;124mlatlng\u001b[39m\u001b[38;5;124m'\u001b[39m]\u001b[38;5;241m.\u001b[39mdata)\u001b[38;5;241m.\u001b[39madd_to(\u001b[38;5;28mmap\u001b[39m)\n\u001b[0;32m      8\u001b[0m \u001b[38;5;28mmap\u001b[39m\n",
      "File \u001b[1;32mc:\\Users\\alosh\\anaconda3\\lib\\site-packages\\pandas\\core\\series.py:978\u001b[0m, in \u001b[0;36mSeries.__getitem__\u001b[1;34m(self, key)\u001b[0m\n\u001b[0;32m    975\u001b[0m     key \u001b[38;5;241m=\u001b[39m unpack_1tuple(key)\n\u001b[0;32m    977\u001b[0m \u001b[38;5;28;01mif\u001b[39;00m is_integer(key) \u001b[38;5;129;01mand\u001b[39;00m \u001b[38;5;28mself\u001b[39m\u001b[38;5;241m.\u001b[39mindex\u001b[38;5;241m.\u001b[39m_should_fallback_to_positional:\n\u001b[1;32m--> 978\u001b[0m     \u001b[38;5;28;01mreturn\u001b[39;00m \u001b[38;5;28;43mself\u001b[39;49m\u001b[38;5;241;43m.\u001b[39;49m\u001b[43m_values\u001b[49m\u001b[43m[\u001b[49m\u001b[43mkey\u001b[49m\u001b[43m]\u001b[49m\n\u001b[0;32m    980\u001b[0m \u001b[38;5;28;01melif\u001b[39;00m key_is_scalar:\n\u001b[0;32m    981\u001b[0m     \u001b[38;5;28;01mreturn\u001b[39;00m \u001b[38;5;28mself\u001b[39m\u001b[38;5;241m.\u001b[39m_get_value(key)\n",
      "\u001b[1;31mIndexError\u001b[0m: index 0 is out of bounds for axis 0 with size 0"
     ]
    }
   ],
   "source": [
    "import folium\n",
    "\n",
    "map = folium.Map(location=[df['start_latlng'][activity_number].split(',')[0],df['start_latlng'][activity_number].split(',')[1]],\n",
    "                 zoom_start=14,\n",
    "                 width='100%'\n",
    "                )\n",
    "folium.PolyLine(activity_data['latlng'].data).add_to(map)\n",
    "map"
   ]
  }
 ],
 "metadata": {
  "kernelspec": {
   "display_name": "base",
   "language": "python",
   "name": "python3"
  },
  "language_info": {
   "codemirror_mode": {
    "name": "ipython",
    "version": 3
   },
   "file_extension": ".py",
   "mimetype": "text/x-python",
   "name": "python",
   "nbconvert_exporter": "python",
   "pygments_lexer": "ipython3",
   "version": "3.10.9"
  }
 },
 "nbformat": 4,
 "nbformat_minor": 2
}
